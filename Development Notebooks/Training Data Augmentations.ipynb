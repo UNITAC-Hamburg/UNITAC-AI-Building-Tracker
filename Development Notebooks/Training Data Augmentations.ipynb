{
  "cells": [
    {
      "cell_type": "markdown",
      "source": [
        "# Image Augmentations for Model Training Data"
      ],
      "metadata": {
        "id": "PuFKO_aTt-Dv"
      }
    },
    {
      "cell_type": "markdown",
      "source": [
        "## 1. Imports and GPU Check"
      ],
      "metadata": {
        "id": "XPIx9C5MuHku"
      }
    },
    {
      "cell_type": "code",
      "execution_count": null,
      "metadata": {
        "id": "QPm_LSaC7FmC"
      },
      "outputs": [],
      "source": [
        "# Hide output of this cell\n",
        "%%capture\n",
        "\n",
        "# Install packages\n",
        "!pip install fastcore fastai --upgrade\n",
        "!pip install rasterio\n",
        "!pip install geopandas\n",
        "\n",
        "# Import packages\n",
        "from fastai.vision.all import *\n",
        "from PIL import Image\n",
        "from torchvision.transforms import ToTensor\n",
        "import albumentations as A\n",
        "from sklearn.model_selection import train_test_split\n",
        "from skimage.io import imread, imsave\n",
        "import imageio\n",
        "from skimage.transform import rotate\n",
        "from skimage.util import random_noise\n",
        "import cv2\n",
        "import rasterio.features\n",
        "import shapely.geometry\n",
        "import geopandas as gpd\n",
        "import numpy as np\n",
        "import random\n",
        "import os\n",
        "import shutil\n",
        "from tqdm import tqdm\n",
        "from matplotlib import pyplot as plt\n",
        "import glob\n",
        "import pytz\n",
        "from datetime import datetime\n",
        "from google.colab import drive"
      ]
    },
    {
      "cell_type": "code",
      "execution_count": null,
      "metadata": {
        "colab": {
          "base_uri": "https://localhost:8080/"
        },
        "id": "usvkzH_S_SoO",
        "outputId": "eecc6611-810d-4fc0-c4f2-cfbaea50daf3"
      },
      "outputs": [
        {
          "output_type": "stream",
          "name": "stdout",
          "text": [
            "Mon Mar 14 09:21:23 2022       \n",
            "+-----------------------------------------------------------------------------+\n",
            "| NVIDIA-SMI 460.32.03    Driver Version: 460.32.03    CUDA Version: 11.2     |\n",
            "|-------------------------------+----------------------+----------------------+\n",
            "| GPU  Name        Persistence-M| Bus-Id        Disp.A | Volatile Uncorr. ECC |\n",
            "| Fan  Temp  Perf  Pwr:Usage/Cap|         Memory-Usage | GPU-Util  Compute M. |\n",
            "|                               |                      |               MIG M. |\n",
            "|===============================+======================+======================|\n",
            "|   0  Tesla V100-SXM2...  Off  | 00000000:00:04.0 Off |                    0 |\n",
            "| N/A   34C    P0    23W / 300W |      2MiB / 16160MiB |      0%      Default |\n",
            "|                               |                      |                  N/A |\n",
            "+-------------------------------+----------------------+----------------------+\n",
            "                                                                               \n",
            "+-----------------------------------------------------------------------------+\n",
            "| Processes:                                                                  |\n",
            "|  GPU   GI   CI        PID   Type   Process name                  GPU Memory |\n",
            "|        ID   ID                                                   Usage      |\n",
            "|=============================================================================|\n",
            "|  No running processes found                                                 |\n",
            "+-----------------------------------------------------------------------------+\n"
          ]
        }
      ],
      "source": [
        "# Check, which GPU was allocated \n",
        "!nvidia-smi"
      ]
    },
    {
      "cell_type": "markdown",
      "source": [
        "## 2. Define Required Functions and Set Parameters"
      ],
      "metadata": {
        "id": "h1K1nMSXuK9a"
      }
    },
    {
      "cell_type": "code",
      "source": [
        "def timestamp():\n",
        "  tz = pytz.timezone('Europe/Berlin')\n",
        "  date = str(datetime.now(tz)).split(\" \")\n",
        "  date_time = f\"{date[0]}_{date[1].split('.')[0][:5]}\"\n",
        "  return date_time\n",
        "\n",
        "# Mount Google Drive for Data Access\n",
        "drive.mount('/content/drive')\n",
        "\n",
        "def informal_pixels_from_file(file):\n",
        "  with rasterio.open(file, 'r') as mask:\n",
        "    mask = mask.read()\n",
        "    settlement_pixels = np.count_nonzero(mask == 255)\n",
        "    total_pixels = mask.size\n",
        "    settlement_share = settlement_pixels / total_pixels\n",
        "    return settlement_share"
      ],
      "metadata": {
        "id": "61FNZdbdn-ou",
        "colab": {
          "base_uri": "https://localhost:8080/"
        },
        "outputId": "df0d328c-dbbe-46ff-f07f-ecd09728ae72"
      },
      "execution_count": null,
      "outputs": [
        {
          "output_type": "stream",
          "name": "stdout",
          "text": [
            "Mounted at /content/drive\n"
          ]
        }
      ]
    },
    {
      "cell_type": "markdown",
      "source": [
        "## 2. Create Image Augmentations"
      ],
      "metadata": {
        "id": "6ALSNm2q8Jgr"
      }
    },
    {
      "cell_type": "markdown",
      "source": [
        "### 2.1. Create undersampled training data for further augmentations"
      ],
      "metadata": {
        "id": "E4cJZvRv8M94"
      }
    },
    {
      "cell_type": "code",
      "source": [
        "imagery_type = \"aerial\"\n",
        "tile_type = \"512_512 stride\"\n",
        "mask_type = \"buildings\"\n",
        "mask_subfolder = \"2019_10cm_RGB_BE_67\"\n",
        "path = Path(f\"/content/drive/MyDrive/Segmentation Data/{imagery_type}\")\n",
        "\n",
        "dir_img = f'{path}/image_tiles/{mask_subfolder}/{tile_type}'\n",
        "dir_msk = f'{path}/{mask_type}_mask_tiles/{mask_subfolder}/{tile_type}'\n",
        "lbl_names = get_image_files(dir_msk)\n",
        "\n",
        "# Drop tiles without building pixels and store in new folder '512_512 undersampled'\n",
        "building_share = []\n",
        "for fn in lbl_names:\n",
        "  building_share.append(informal_pixels_from_file(fn))\n",
        "\n",
        "index = 0\n",
        "indices = []\n",
        "for mask in building_share:\n",
        "  if mask > 0:\n",
        "    indices.append(index)\n",
        "  index += 1\n",
        "\n",
        "dir_img_augm = f'{path}/image_tiles/{mask_subfolder}/512_512 undersampled'\n",
        "dir_msk_augm = f'{path}/{mask_type}_mask_tiles/{mask_subfolder}/512_512 undersampled'\n",
        "\n",
        "for index in indices:\n",
        "  shutil.copyfile(fnames[index], f\"{dir_img_augm}/{str(fnames[index]).split('/')[-1]}\")\n",
        "  shutil.copyfile(lbl_names[index], f\"{dir_msk_augm}/{str(lbl_names[index]).split('/')[-1]}\")"
      ],
      "metadata": {
        "id": "WNoBKk-YmeUF"
      },
      "execution_count": null,
      "outputs": []
    },
    {
      "cell_type": "markdown",
      "source": [
        "### 2.2. Create Augmentations"
      ],
      "metadata": {
        "id": "4VnWV8_H8bN6"
      }
    },
    {
      "cell_type": "code",
      "source": [
        "## Create new folders for different train/test splits and augmentations\n",
        "fnames = get_image_files(dir_img_augm)\n",
        "lbl_names = get_image_files(dir_msk_augm)\n",
        "root = '/content/drive/MyDrive/Segmentation Data/aerial/augmented/8'\n",
        "\n",
        "train_img = []\n",
        "train_msk = []\n",
        "\n",
        "for i in [0.05, 0.2]:\n",
        "  for tile in ['img', 'lbl']:\n",
        "    for folder in [\"train\", \"valid\"]:\n",
        "      local_dir = f'{root}/{i}/{tile}/{folder}'\n",
        "      if not os.path.exists(local_dir):\n",
        "          os.makedirs(local_dir)\n",
        "      # Split images and masks\n",
        "      img_train, img_test, msk_train, msk_test = train_test_split(fnames, lbl_names, test_size = i, random_state = 42)\n",
        "\n",
        "      # Copy validation images and masks (no augmentation)\n",
        "      for file in img_test:\n",
        "        shutil.copyfile(file, f\"{local_dir}/{str(file).split('/')[-1]}\")\n",
        "      for file in msk_test:\n",
        "        shutil.copyfile(file, f\"{local_dir}/{str(file).split('/')[-1]}\")\n",
        "\n",
        "      ## Augment training images and masks\n",
        "      # Sanity check\n",
        "      if len(img_train) != len(msk_train):\n",
        "        print(len(img_train), len(msk_train))\n",
        "\n",
        "      # Read images and masks in and store in lists\n",
        "      train_img = []\n",
        "      train_msk = []\n",
        "      \n",
        "      for img_path in img_train:\n",
        "        img = imread(img_path)\n",
        "        train_img.append(img)\n",
        "      for msk_path in msk_train:\n",
        "        img = imread(msk_path)\n",
        "        train_msk.append(img)\n",
        "\n",
        "      # Convert lists of read-in inmages to np arrays to speed up augmentations \n",
        "      train_img = np.array(train_img)\n",
        "      train_msk = np.array(train_msk)\n",
        "\n",
        "      # Create augmentations\n",
        "      final_train_data = []\n",
        "      final_target_train = []\n",
        "\n",
        "      for i in tqdm(range(train_img.shape[0])):\n",
        "          final_train_data.append(train_img[i]) # original image\n",
        "          final_train_data.append(rotate(train_img[i], angle = 90)) # 90 degree flipped\n",
        "          final_train_data.append(np.fliplr(train_img[i])) # left-right flipped\n",
        "          final_train_data.append(np.flipud(train_img[i])) # up-down flipped\n",
        "          final_train_data.append(random_noise(train_img[i], var = 0.2**2)) # random noise added\n",
        "          final_train_data.append(np.fliplr(rotate(train_img[i], angle = 90))) # rotated and left-right flipped\n",
        "          final_train_data.append(np.flipud(rotate(train_img[i], angle = 90))) # rotated and up-down flipped\n",
        "\n",
        "          final_target_train.append(train_msk[i]) # original mask\n",
        "          final_target_train.append(rotate(train_msk[i], angle = 90)) # 90 degree flipped\n",
        "          final_target_train.append(np.fliplr(train_msk[i])) # left-right flipped\n",
        "          final_target_train.append(np.flipud(train_msk[i])) # up-down flipped\n",
        "          final_target_train.append(train_msk[i]) # use orignal mask since position of buildings has not changed\n",
        "          final_target_train.append(np.fliplr(rotate(train_msk[i], angle = 90))) # rotated and left-right flipped\n",
        "          final_target_train.append(np.flipud(rotate(train_msk[i], angle = 90))) # rotated and up-down flipped\n",
        "\n",
        "          index = 0\n",
        "          for img in final_train_data:\n",
        "            imageio.imwrite(f'{dir_augm}/img/train/{index}.png', img*255.astype(np.uint8))\n",
        "            index += 1\n",
        "\n",
        "          index = 0\n",
        "          for msk in final_target_train:\n",
        "            imageio.imwrite(f'{dir_augm}/lbl/train/{index}.png', msk*255).astype(np.uint8))\n",
        "            index += 1"
      ],
      "metadata": {
        "id": "-H1mqcQalu5C",
        "colab": {
          "base_uri": "https://localhost:8080/"
        },
        "outputId": "28498ba0-76d0-4a62-9d86-c3a9570716d4"
      },
      "execution_count": null,
      "outputs": [
        {
          "output_type": "stream",
          "name": "stderr",
          "text": [
            "100%|██████████| 207/207 [00:43<00:00,  4.72it/s]\n"
          ]
        }
      ]
    }
  ],
  "metadata": {
    "accelerator": "GPU",
    "colab": {
      "background_execution": "on",
      "collapsed_sections": [],
      "machine_shape": "hm",
      "name": "Augmentations",
      "provenance": []
    },
    "kernelspec": {
      "display_name": "Python 3",
      "name": "python3"
    },
    "language_info": {
      "name": "python"
    }
  },
  "nbformat": 4,
  "nbformat_minor": 0
}