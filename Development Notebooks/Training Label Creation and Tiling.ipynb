{
  "cells": [
    {
      "cell_type": "markdown",
      "id": "be72341b-3d53-4c7c-8483-d7f21ea52c8f",
      "metadata": {
        "id": "be72341b-3d53-4c7c-8483-d7f21ea52c8f"
      },
      "source": [
        "# Tiling and Converting of Images and Masks"
      ]
    },
    {
      "cell_type": "markdown",
      "id": "Cf7W6KLkrOU0",
      "metadata": {
        "id": "Cf7W6KLkrOU0"
      },
      "source": [
        "## 1. Install and Import Required Packages"
      ]
    },
    {
      "cell_type": "code",
      "execution_count": null,
      "id": "nSZk34bhItOj",
      "metadata": {
        "id": "nSZk34bhItOj"
      },
      "outputs": [],
      "source": [
        "# Install needed Packages\n",
        "%%capture\n",
        "!pip install rasterio\n",
        "!pip install geopandas\n",
        "!pip install fastai --upgrade"
      ]
    },
    {
      "cell_type": "code",
      "execution_count": null,
      "id": "9cfe8c2b-eadc-46ad-8a49-b0e00c549b33",
      "metadata": {
        "id": "9cfe8c2b-eadc-46ad-8a49-b0e00c549b33"
      },
      "outputs": [],
      "source": [
        "# Import packages\n",
        "import rasterio\n",
        "from rasterio.features import rasterize\n",
        "import geopandas as gpd\n",
        "from shapely.ops import cascaded_union\n",
        "from shapely.geometry import mapping, Point, Polygon\n",
        "import numpy as np\n",
        "import matplotlib.pyplot as plt\n",
        "from PIL import Image\n",
        "import os\n",
        "from fastai.vision.all import *\n",
        "from tqdm import tqdm\n",
        "from google.colab import drive"
      ]
    },
    {
      "cell_type": "markdown",
      "id": "LsCbi3JHrcka",
      "metadata": {
        "id": "LsCbi3JHrcka"
      },
      "source": [
        "## 2. Mount Google Drive and Define Functions"
      ]
    },
    {
      "cell_type": "code",
      "execution_count": null,
      "id": "Z8RMMqe5JY0-",
      "metadata": {
        "colab": {
          "base_uri": "https://localhost:8080/"
        },
        "id": "Z8RMMqe5JY0-",
        "outputId": "590f4ef2-0162-4ddc-8366-3509185e10ec"
      },
      "outputs": [
        {
          "name": "stdout",
          "output_type": "stream",
          "text": [
            "Drive already mounted at /content/drive; to attempt to forcibly remount, call drive.mount(\"/content/drive\", force_remount=True).\n"
          ]
        }
      ],
      "source": [
        "drive.mount('/content/drive')\n",
        "\n",
        "def tile_img_msk(image_path, tile_size:int):\n",
        "  '''Split images and corresponding masks into smaller tiles and save them'''\n",
        "\n",
        "  # Loop through all images in the given folder\n",
        "  for fn in tqdm(image_path):\n",
        "    output_path = fn.parent.parent\n",
        "\n",
        "    # Create 'image_tiles' and 'mask_tiles' directories if they don't already exist\n",
        "    if not os.path.exists(output_path/'image_tiles'):\n",
        "      os.makedirs(output_path/'image_tiles')\n",
        "    if not os.path.exists(output_path/f'{mask_type}_mask_tiles'):\n",
        "      os.makedirs(output_path/f'{mask_type}_mask_tiles')\n",
        "\n",
        "    # Create mask for current image\n",
        "    img = np.array(PILImage.create(fn))\n",
        "    msk_fn = str(fn).replace('images', f'untiled masks/{mask_type}')\n",
        "    msk = np.array(PILMask.create(msk_fn))\n",
        "    x, y, _ = img.shape\n",
        "\n",
        "    # Cut tiles and save them\n",
        "    for i in range(x//tile_size):\n",
        "      for j in range(y//tile_size):\n",
        "        img_tile = img[i*tile_size:(i+1)*tile_size,j*tile_size:(j+1)*tile_size]\n",
        "        msk_tile = msk[i*tile_size:(i+1)*tile_size,j*tile_size:(j+1)*tile_size]\n",
        "        Image.fromarray(img_tile).save(f'{output_path}/image_tiles/{fn.name[:-4]}_{i}_{j}.png')\n",
        "        Image.fromarray(msk_tile).save(f'{output_path}/{mask_type}_mask_tiles/{fn.name[:-4]}_{i}_{j}.png')\n",
        "\n",
        "\n",
        "def tile_img(image_path, output_path, tile_size:int, single = None):\n",
        "  '''Tile image into smaller tiles and save them'''\n",
        "  if single == False:\n",
        "    for fn in tqdm(image_path):\n",
        "      # Create output directory if it doesn't already exist\n",
        "      if not os.path.exists(output_path):\n",
        "        os.makedirs(output_path)\n",
        "\n",
        "      # Create mask for current image\n",
        "      img = np.array(PILImage.create(fn))\n",
        "      x, y, _ = img.shape\n",
        "\n",
        "      # Cut tiles and save them\n",
        "      for i in range(x//tile_size):\n",
        "        for j in range(y//tile_size):\n",
        "          img_tile = img[i*tile_size:(i+1)*tile_size, j*tile_size:(j+1)*tile_size]\n",
        "          Image.fromarray(img_tile).save(f'{output_path}/{fn.name[:-4]}/{fn.name[:-4]}_{i}_{j}.png')\n",
        "\n",
        "  if single == True:\n",
        "    # Create directories\n",
        "    if not os.path.exists(output_path):\n",
        "      os.makedirs(output_path)\n",
        "\n",
        "    # Create mask for current image\n",
        "    img = np.array(PILImage.create(image_path))\n",
        "    x, y, _ = img.shape\n",
        "\n",
        "    # Cut tiles and save them\n",
        "    fn = image_path.split(\"/\")[-1][:-4]\n",
        "    for i in range(x//tile_size):\n",
        "      for j in range(y//tile_size):\n",
        "        img_tile = img[i*tile_size:(i+1)*tile_size,j*tile_size:(j+1)*tile_size]\n",
        "        Image.fromarray(img_tile).save(f'{output_path}/{fn}/{fn}_{i}_{j}.png')\n",
        "\n",
        "\n",
        "def generate_mask(raster_path, shape_path, output_path = None, file_name = None):\n",
        "    '''Function that generates a binary mask from a vector file (shp or geojson)\n",
        "    raster_path = path to the .tif;\n",
        "    shape_path = path to the shapefile or GeoJson.\n",
        "    output_path = Path to save the binary mask.\n",
        "    file_name = Name of the file.'''\n",
        "    \n",
        "    # Load raster\n",
        "    with rasterio.open(raster_path, \"r\") as src:\n",
        "        raster_img = src.read()\n",
        "        raster_meta = src.meta\n",
        "    \n",
        "    # Load shapefile\n",
        "    train_df = gpd.read_file(shape_path)\n",
        "    \n",
        "    # Verify CRS of the raster file\n",
        "    if train_df.crs != src.crs:\n",
        "      print(f'Raster CRS: {src.crs}, Vector CRS: {train_df.crs}.\\n Convert vector and raster to the same CRS.')\n",
        "        \n",
        "    # Generate the mask\n",
        "    def poly_from_utm(polygon, transform):\n",
        "        poly_pts = []\n",
        "        poly = cascaded_union(polygon)\n",
        "        for i in np.array(poly.exterior.coords):\n",
        "            poly_pts.append( ~ transform * tuple(i))\n",
        "        new_poly = Polygon(poly_pts)\n",
        "        return new_poly\n",
        "    \n",
        "    poly_shp = []\n",
        "    im_size = (src.meta['height'], src.meta['width'])\n",
        "    for num, row in train_df.iterrows():\n",
        "        if row['geometry'].geom_type == 'Polygon':\n",
        "            poly = poly_from_utm(row['geometry'], src.meta['transform'])\n",
        "            poly_shp.append(poly)\n",
        "        else:\n",
        "            for p in row['geometry']:\n",
        "                poly = poly_from_utm(p, src.meta['transform'])\n",
        "                poly_shp.append(poly)\n",
        "    \n",
        "    if len(poly_shp) > 0:\n",
        "        mask = rasterize(shapes=poly_shp, out_shape=im_size)\n",
        "    else:\n",
        "        mask = np.zeros(im_size)\n",
        "    \n",
        "    # Save or show mask\n",
        "    mask = mask.astype('uint8')    \n",
        "    bin_mask_meta = src.meta.copy()\n",
        "    bin_mask_meta.update({'count': 1})\n",
        "    if (output_path != None and file_name != None):\n",
        "        os.chdir(output_path)\n",
        "        with rasterio.open(file_name, 'w', **bin_mask_meta) as dst:\n",
        "            dst.write(mask * 255, 1) # Change 255 to 1 if classes need to be 0 and 1\n",
        "    else:\n",
        "        return mask\n",
        "\n",
        "\n",
        "def save_masks(images, mask, maskdir):\n",
        "    if not os.path.exists(maskdir):\n",
        "        os.makedirs(maskdir)\n",
        "    for image in tqdm(images):\n",
        "        if image.name.endswith(('.TIF', '.tif')):\n",
        "            shapes = image.name\n",
        "            generate_mask(image, mask, maskdir, shapes)\n",
        "\n",
        " \n",
        "def informal_pixels_from_directory(tiled_masks_path):\n",
        "    output_dict = {}\n",
        "    for file in os.listdir(tiled_masks_path):\n",
        "        try:\n",
        "            mask = rasterio.open(os.path.join(tiled_masks_path, file))\n",
        "            mask = (mask).read()\n",
        "            settlement_pixels = np.count_nonzero(mask == 1)\n",
        "            total_pixels = mask.size\n",
        "            settlement_share = settlement_pixels / total_pixels\n",
        "            output_dict[file] = settlement_share\n",
        "        except:\n",
        "            print(f'File {file} encountered an error.')\n",
        "            continue\n",
        "    return output_dict\n",
        "\n",
        "def informal_pixels_from_file(file):\n",
        "    output_dict = {}\n",
        "    mask = rasterio.open(file)\n",
        "    mask = mask.read()\n",
        "    settlement_pixels = np.count_nonzero(mask == 1)\n",
        "    total_pixels = mask.size\n",
        "    settlement_share = settlement_pixels / total_pixels\n",
        "    return settlement_share"
      ]
    },
    {
      "cell_type": "markdown",
      "id": "EbL-m1BernQf",
      "metadata": {
        "id": "EbL-m1BernQf"
      },
      "source": [
        "## 3. Set Paths for Images and Masks"
      ]
    },
    {
      "cell_type": "code",
      "execution_count": null,
      "id": "A3iYVfu9uXjY",
      "metadata": {
        "id": "A3iYVfu9uXjY"
      },
      "outputs": [],
      "source": [
        "# Set type of imagery and mask to tile\n",
        "imagery_type = 'aerial' # \"satellite\"\n",
        "mask_type = 'buildings' # \"settlements\"\n",
        "\n",
        "# Set directory containing images and size of tiles to produce\n",
        "path = Path(f\"/content/drive/MyDrive/Segmentation Data/{imagery_type}\")\n",
        "images_list = get_image_files(path/\"images\")\n",
        "\n",
        "# Set mask path\n",
        "if mask_type == \"settlements\":\n",
        "  shp_path = f\"{path}/untiled masks/shapefiles/BuildingFootprints_4326.shp\"\n",
        "elif mask_type == \"buildings\":\n",
        "  shp_path = f\"{path}/untiled masks/shapefiles/manually labelled/2019_10cm_RGB_BE_67.shp\""
      ]
    },
    {
      "cell_type": "markdown",
      "id": "YOQMTJRervQ8",
      "metadata": {
        "id": "YOQMTJRervQ8"
      },
      "source": [
        "## 4. Tile Images and Masks"
      ]
    },
    {
      "cell_type": "markdown",
      "id": "YPTSTK-qrzIL",
      "metadata": {
        "id": "YPTSTK-qrzIL"
      },
      "source": [
        "### 4.1. Visualise Mask"
      ]
    },
    {
      "cell_type": "code",
      "execution_count": null,
      "id": "u8Uje-JReLFK",
      "metadata": {
        "colab": {
          "base_uri": "https://localhost:8080/",
          "height": 276
        },
        "id": "u8Uje-JReLFK",
        "outputId": "159c02a4-6651-4e5e-83a2-7b5d84a2f5ac"
      },
      "outputs": [
        {
          "data": {
            "image/png": "[encoded data removed]",
            "text/plain": [
              "<Figure size 432x288 with 1 Axes>"
            ]
          },
          "metadata": {
            "needs_background": "light"
          },
          "output_type": "display_data"
        }
      ],
      "source": [
        "mask_plot = gpd.read_file(shp_path)\n",
        "mask_plot[\"geometry\"].plot();"
      ]
    },
    {
      "cell_type": "code",
      "execution_count": null,
      "id": "6GjQTiHveOxq",
      "metadata": {
        "colab": {
          "base_uri": "https://localhost:8080/"
        },
        "id": "6GjQTiHveOxq",
        "outputId": "372603f6-cff8-42d2-f1fa-f01ec48eabb1"
      },
      "outputs": [
        {
          "name": "stdout",
          "output_type": "stream",
          "text": [
            "Number of images: 12\n",
            "/content/drive/MyDrive/Segmentation Data/aerial/images/2019_10cm_RGB_BE_67.tif\n"
          ]
        }
      ],
      "source": [
        "print(f'Number of images: {len(images_list)}')\n",
        "print(images_list[0])"
      ]
    },
    {
      "cell_type": "markdown",
      "id": "EXtXthZsv-66",
      "metadata": {
        "id": "EXtXthZsv-66"
      },
      "source": [
        "Create Masks Corresponding to Selected Images"
      ]
    },
    {
      "cell_type": "code",
      "execution_count": null,
      "id": "IiSatIGZmzJu",
      "metadata": {
        "id": "IiSatIGZmzJu"
      },
      "outputs": [],
      "source": [
        "# Create masks corresponding to selected images\n",
        "save_masks(images_list, shp_path, path/f'untiled masks/{mask_type}')"
      ]
    },
    {
      "cell_type": "markdown",
      "id": "h1xQElp2wGGg",
      "metadata": {
        "id": "h1xQElp2wGGg"
      },
      "source": [
        "Tile Selected Images and Corresponding Masks"
      ]
    },
    {
      "cell_type": "code",
      "execution_count": null,
      "id": "8910ae69-ed9a-4a44-a691-f8a75067255d",
      "metadata": {
        "id": "8910ae69-ed9a-4a44-a691-f8a75067255d"
      },
      "outputs": [],
      "source": [
        "# Tile images and masks with a stride of 0 pixels\n",
        "tile_size = 512\n",
        "tile_img_msk(images_list, tile_size)"
      ]
    },
    {
      "cell_type": "markdown",
      "id": "ML0eZ4vH29UJ",
      "metadata": {
        "id": "ML0eZ4vH29UJ"
      },
      "source": [
        "Tile Only Selected Image(s)"
      ]
    },
    {
      "cell_type": "code",
      "execution_count": null,
      "id": "ntKaR3kh0tXv",
      "metadata": {
        "colab": {
          "base_uri": "https://localhost:8080/"
        },
        "id": "ntKaR3kh0tXv",
        "outputId": "1d210206-1822-45d7-fa36-7db4ac7475ca"
      },
      "outputs": [
        {
          "name": "stderr",
          "output_type": "stream",
          "text": [
            "\r  0%|          | 0/12 [00:00<?, ?it/s]/usr/local/lib/python3.7/dist-packages/PIL/Image.py:2800: DecompressionBombWarning: Image size (100000000 pixels) exceeds limit of 89478485 pixels, could be decompression bomb DOS attack.\n",
            "  DecompressionBombWarning,\n",
            "100%|██████████| 12/12 [10:58<00:00, 54.87s/it]\n"
          ]
        }
      ],
      "source": [
        "tile_size = 500\n",
        "output_path = path/\"inference/input\"\n",
        "if not os.path.exists(str(output_path)):\n",
        "  os.makedirs(str(output_path))\n",
        "\n",
        "tile_img(images_list, output_path, tile_size, single = False)"
      ]
    },
    {
      "cell_type": "code",
      "execution_count": null,
      "id": "13ZDjSpx76vO",
      "metadata": {
        "colab": {
          "base_uri": "https://localhost:8080/"
        },
        "id": "13ZDjSpx76vO",
        "outputId": "482b8ac8-f3cd-4351-dfb4-bd2d78b1c37e"
      },
      "outputs": [
        {
          "name": "stdout",
          "output_type": "stream",
          "text": [
            "4800\n",
            "4800\n"
          ]
        }
      ],
      "source": [
        "# Sanity check\n",
        "print(len(get_image_files(output_path)))\n",
        "print(len(images_list * 400))"
      ]
    }
  ],
  "metadata": {
    "colab": {
      "background_execution": "on",
      "collapsed_sections": [],
      "machine_shape": "hm",
      "name": "Tiling Notebook.ipynb",
      "provenance": []
    },
    "kernelspec": {
      "display_name": "Python 3 (ipykernel)",
      "language": "python",
      "name": "python3"
    },
    "language_info": {
      "codemirror_mode": {
        "name": "ipython",
        "version": 3
      },
      "file_extension": ".py",
      "mimetype": "text/x-python",
      "name": "python",
      "nbconvert_exporter": "python",
      "pygments_lexer": "ipython3",
      "version": "3.9.7"
    }
  },
  "nbformat": 4,
  "nbformat_minor": 5
}
