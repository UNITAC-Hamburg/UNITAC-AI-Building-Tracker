{
  "cells": [
    {
      "cell_type": "markdown",
      "metadata": {
        "id": "dJIhHLYw51HQ"
      },
      "source": [
        "# UNITAC eThekwini Building Tracker Model Training Workbook"
      ]
    },
    {
      "cell_type": "markdown",
      "metadata": {
        "id": "RhH3_u1-55wI"
      },
      "source": [
        "## 1. Imports and GPU Check"
      ]
    },
    {
      "cell_type": "code",
      "execution_count": null,
      "metadata": {
        "id": "j2uRbviT54r0"
      },
      "outputs": [],
      "source": [
        "# Hide output of this cell and install packages\n",
        "%%capture\n",
        "!pip install fastcore fastai --upgrade\n",
        "!pip3 install SemTorch\n",
        "\n",
        "# Import packages\n",
        "from fastai.vision.all import *\n",
        "import numpy as np\n",
        "import random\n",
        "import os\n",
        "import pytz\n",
        "from datetime import datetime\n",
        "from semtorch import get_segmentation_learner\n",
        "from google.colab import drive\n",
        "from IPython.display import Audio, display\n",
        "from sklearn.model_selection import train_test_split"
      ]
    },
    {
      "cell_type": "code",
      "execution_count": null,
      "metadata": {
        "colab": {
          "base_uri": "https://localhost:8080/"
        },
        "id": "ni_20orH5_5e",
        "outputId": "60b06322-00d5-4914-920e-42344db77bff"
      },
      "outputs": [
        {
          "name": "stdout",
          "output_type": "stream",
          "text": [
            "Tue May 17 14:33:05 2022       \n",
            "+-----------------------------------------------------------------------------+\n",
            "| NVIDIA-SMI 460.32.03    Driver Version: 460.32.03    CUDA Version: 11.2     |\n",
            "|-------------------------------+----------------------+----------------------+\n",
            "| GPU  Name        Persistence-M| Bus-Id        Disp.A | Volatile Uncorr. ECC |\n",
            "| Fan  Temp  Perf  Pwr:Usage/Cap|         Memory-Usage | GPU-Util  Compute M. |\n",
            "|                               |                      |               MIG M. |\n",
            "|===============================+======================+======================|\n",
            "|   0  Tesla T4            Off  | 00000000:00:04.0 Off |                    0 |\n",
            "| N/A   37C    P8     9W /  70W |      3MiB / 15109MiB |      0%      Default |\n",
            "|                               |                      |                  N/A |\n",
            "+-------------------------------+----------------------+----------------------+\n",
            "                                                                               \n",
            "+-----------------------------------------------------------------------------+\n",
            "| Processes:                                                                  |\n",
            "|  GPU   GI   CI        PID   Type   Process name                  GPU Memory |\n",
            "|        ID   ID                                                   Usage      |\n",
            "|=============================================================================|\n",
            "|  No running processes found                                                 |\n",
            "+-----------------------------------------------------------------------------+\n"
          ]
        }
      ],
      "source": [
        "# Check, which GPU was allocated \n",
        "!nvidia-smi"
      ]
    },
    {
      "cell_type": "markdown",
      "metadata": {
        "id": "ObNZm7TS6Cx9"
      },
      "source": [
        "## 2. Define Required Functions and Set Parameters"
      ]
    },
    {
      "cell_type": "markdown",
      "metadata": {
        "id": "ZbOnO1qg6MLU"
      },
      "source": [
        "### 2.1. Loss Functions"
      ]
    },
    {
      "cell_type": "code",
      "execution_count": null,
      "metadata": {
        "id": "kjMmxUHT6DFF"
      },
      "outputs": [],
      "source": [
        "# Custom loss functions\n",
        "class CombinedLoss:\n",
        "    '''Dice and Focal combined'''\n",
        "    def __init__(self, axis=1, smooth=1., alpha=1.):\n",
        "        store_attr()\n",
        "        self.focal_loss = FocalLossFlat(axis=axis)\n",
        "        self.dice_loss =  DiceLoss(axis, smooth)\n",
        "        \n",
        "    def __call__(self, pred, targ):\n",
        "        return self.focal_loss(pred, targ) + self.alpha * self.dice_loss(pred, targ)\n",
        "    \n",
        "    def decodes(self, x):    return x.argmax(dim=self.axis)\n",
        "    def activation(self, x): return F.softmax(x, dim=self.axis)\n",
        "\n",
        "\n",
        "class Dual_Focal_loss(nn.Module):\n",
        "    '''\n",
        "    This loss is proposed in this paper: https://arxiv.org/abs/1909.11932\n",
        "    '''\n",
        "\n",
        "    def __init__(self, ignore_lb=255, eps=1e-5, reduction='mean'):\n",
        "        super(Dual_Focal_loss, self).__init__()\n",
        "        self.ignore_lb = ignore_lb\n",
        "        self.eps = eps\n",
        "        self.reduction = reduction\n",
        "        self.mse = nn.MSELoss(reduction='none')\n",
        "\n",
        "    def forward(self, logits, label):\n",
        "        ignore = label.data.cpu() == self.ignore_lb\n",
        "        n_valid = (ignore == 0).sum()\n",
        "        label = label.clone()\n",
        "        label[ignore] = 0\n",
        "        lb_one_hot = logits.data.clone().zero_().scatter_(1, label.unsqueeze(1), 1).detach()\n",
        "\n",
        "        pred = torch.softmax(logits, dim=1)\n",
        "        loss = -torch.log(self.eps + 1. - self.mse(pred, lb_one_hot)).sum(dim=1)\n",
        "        loss[ignore] = 0\n",
        "        if self.reduction == 'mean':\n",
        "            loss = loss.sum() / n_valid\n",
        "        elif self.reduction == 'sum':\n",
        "            loss = loss.sum()\n",
        "        elif self.reduction == 'none':\n",
        "            loss = loss\n",
        "        return loss"
      ]
    },
    {
      "cell_type": "markdown",
      "metadata": {
        "id": "U8uGTFtx6Ox4"
      },
      "source": [
        "### 2.2. Mount Google Drive, Set Path and Codes, and Define Required Functions"
      ]
    },
    {
      "cell_type": "code",
      "execution_count": null,
      "metadata": {
        "colab": {
          "base_uri": "https://localhost:8080/"
        },
        "id": "ZSLZp4W16R85",
        "outputId": "e6cc1457-6492-49bf-d529-f28aac869451"
      },
      "outputs": [
        {
          "name": "stdout",
          "output_type": "stream",
          "text": [
            "Mounted at /content/drive\n"
          ]
        }
      ],
      "source": [
        "# Mount Google Drive\n",
        "drive.mount('/content/drive')\n",
        "\n",
        "# Set path of root folder of images and masks\n",
        "path = Path(f'/content/drive/MyDrive/Segmentation Data/aerial')\n",
        "\n",
        "# Set codes\n",
        "codes = ['Background', 'Building']\n",
        "\n",
        "def n_codes(fnames, is_partial=True):\n",
        "  '''Gather the codes from a list of fnames'''\n",
        "  vals = set()\n",
        "  if is_partial:\n",
        "    random.shuffle(fnames)\n",
        "    fnames = fnames[:10]\n",
        "  for fname in fnames:\n",
        "    msk = np.array(PILMask.create(fname))\n",
        "    for val in np.unique(msk):\n",
        "      if val not in vals:\n",
        "        vals.add(val)\n",
        "  vals = list(vals)\n",
        "  p2c = dict()\n",
        "  for i,val in enumerate(vals):\n",
        "    p2c[i] = vals[i]\n",
        "  return p2c\n",
        "\n",
        "def get_msk(fn, p2c):\n",
        "  '''Grab a mask from a filename and adjust the pixels based on p2c'''\n",
        "  pix2class = n_codes(lbl_names)\n",
        "  # old structure: fn = f'{path}/buildings_mask_tiles/2019_10cm_RGB_BE_67/{tile_type}/{fn.stem[:-3]}lbl{fn.suffix}'\n",
        "  fn = str(fn).replace('image_tiles', 'buildings_mask_tiles')\n",
        "  msk = np.array(PILMask.create(fn))\n",
        "  mx = np.max(msk)\n",
        "  for i, val in enumerate(p2c):\n",
        "    msk[msk==p2c[i]] = val\n",
        "  return PILMask.create(msk)\n",
        "\n",
        "def get_msk_augmented(fn, p2c):\n",
        "  '''Grab a mask from a `filename` and adjust the pixels based on `pix2class`'''\n",
        "  fn = str(fn).replace('img', 'lbl')\n",
        "  msk = np.array(PILMask.create(fn))\n",
        "  mx = np.max(msk)\n",
        "  for i, val in enumerate(p2c):\n",
        "    msk[msk==p2c[i]] = val\n",
        "  return PILMask.create(msk)\n",
        "\n",
        "def get_y(o):\n",
        "  return get_msk(o, p2c)\n",
        "\n",
        "def get_y_augmented(o):\n",
        "  return get_msk_augmented(o, p2c)\n",
        "\n",
        "def batch_size(backbone, tile_size):\n",
        "  '''Automatically set batch size depending on image size and architecture used'''\n",
        "  if '512' in tile_size:\n",
        "    batch_size_dict = {'resnet152': 2, 'resnet101': 2, 'resnet50': 2, # Change batch size for used backbone if you run into CUDA out of memory errors\n",
        "                       'resnet34': 11, 'resnet18': 8, 'vgg16_bn': 2,\n",
        "                       'hrnet_w18': 32, 'hrnet_w30': 32, 'hrnet_w32': 32,\n",
        "                       'hrnet_w48': 18}\n",
        "  elif '256' in tile_size:\n",
        "    batch_size_dict = {'resnet152': 2, 'resnet101': 2, 'resnet50': 2,\n",
        "                       'resnet34': 11, 'resnet18': 10}\n",
        "  return batch_size_dict[backbone]\n",
        "\n",
        "def create_missing_folder(folder):\n",
        "  '''Create missing folders'''\n",
        "  if not os.path.exists(folder):\n",
        "    os.makedirs(folder)\n",
        "\n",
        "def timestamp():\n",
        "  '''Timestamp experiments'''\n",
        "  tz = pytz.timezone('Europe/Berlin')\n",
        "  date = str(datetime.now(tz)).split(\" \")\n",
        "  date_time = f\"{date[0]}_{date[1].split('.')[0][:5]}\"\n",
        "  return date_time\n",
        "\n",
        "def model_notification():\n",
        "  '''Create notification when model training is completed'''\n",
        "  for i in range(5):\n",
        "    display(Audio('https://www.soundjay.com/buttons/beep-03.wav', autoplay=True))\n",
        "    time.sleep(2)\n",
        "\n",
        "def get_tile_size(tile_type):\n",
        "  if '512' in tile_type:\n",
        "    tile_size = '512'\n",
        "  elif '256' in tile_type:\n",
        "    tile_size = '256'\n",
        "  return tile_size\n",
        "\n",
        "def check_fnames_lbls(tile_type, augmented=None):\n",
        "  '''Get images and labels for dataloader and check whether their number is equal'''\n",
        "  global fnames, lbl_names, path\n",
        "  if augmented == False:\n",
        "    path = Path(f'/content/drive/MyDrive/Segmentation Data/aerial') # change this to your data\n",
        "    # old structure: fnames = get_image_files(f'{path}/image_tiles/2019_10cm_RGB_BE_67/{tile_type}')\n",
        "    # old structure: lbl_names = get_image_files(f'{path}/buildings_mask_tiles/2019_10cm_RGB_BE_67/{tile_type}')\n",
        "    fnames = get_image_files(f'{path}/image_tiles')\n",
        "    lbl_names = get_image_files(f'{path}/buildings_mask_tiles')\n",
        "  elif augmented == True:\n",
        "    path = Path(f'/content/drive/MyDrive/Segmentation Data/aerial/augmented/8/0.2') # change this to your data\n",
        "    fnames = get_image_files(path/'img')\n",
        "    lbl_names = get_image_files(path/'lbl')\n",
        "  if len(fnames) != len(lbl_names):\n",
        "    print('ERROR: unequal number of image and mask tiles!')\n",
        "  return fnames, lbl_names, path\n",
        "\n",
        "def callbacks(model_dir, architecture, backbone, fit_type, timestamp):\n",
        "  '''Log results in CSV, show progress, and stop early if dice coefficient doesn't improve for 10 epochs'''\n",
        "  cbs = [CSVLogger(fname = f'{model_dir}/{architecture}_{backbone}_{fit_type}_{timestamp()}.csv', append=True),\n",
        "        ShowGraphCallback(),\n",
        "        EarlyStoppingCallback(monitor='dice', patience=10, reset_on_fit=True)]\n",
        "  return cbs\n",
        "\n",
        "def check_dataset_balance(tile_type, augmented=None):\n",
        "  '''Check, how balanced the dataset is'''\n",
        "  global tile_size, p2c\n",
        "  tile_size = get_tile_size(tile_type)\n",
        "\n",
        "  # Check if there is a label for each image\n",
        "  fnames, lbl_names, path = check_fnames_lbls(tile_type, augmented)\n",
        "\n",
        "  # Get codes of masks\n",
        "  p2c = n_codes(lbl_names)\n",
        "\n",
        "  if augmented == False:\n",
        "    label_func = get_y\n",
        "  elif augmented == True:\n",
        "    label_func = get_y_augmented\n",
        "\n",
        "  # Create dataloader to check building pixels\n",
        "  dls = SegmentationDataLoaders.from_label_func(path, fnames, label_func=label_func, bs=64, codes=codes, seed=2)\n",
        "\n",
        "  targs = torch.zeros((0, 512, 512))\n",
        "  for _, masks in dls[0]:\n",
        "    targs = torch.cat((targs, masks.cpu()), dim=0)\n",
        "\n",
        "  total_pixels = targs.shape[1]**2\n",
        "  percentages = torch.count_nonzero(targs, dim=(1, 2)) / total_pixels\n",
        "  plt.hist(percentages, bins=20)\n",
        "  plt.ylabel('Number of tiles')\n",
        "  plt.xlabel('Ratio of pixels that are of class `building`')\n",
        "  plt.gca().spines['top'].set_color('none')\n",
        "  plt.gca().spines['right'].set_color('none')\n",
        "  plt.show()\n",
        "  print(f'Mean Percentage of Pixels Belonging to Buildings: {round(percentages.mean().item(), 3)}')\n",
        "  return percentages\n",
        "\n",
        "def u_net_model_training(tile_type, backbone, fit_type, epochs, architecture='U-Net', augmented=None, split=.2):\n",
        "  '''Create list of files and masks, a dataloader, a model, callbacks, and train final model'''\n",
        "  global tile_size, p2c, loss\n",
        "  tile_size = get_tile_size(tile_type)\n",
        "  # Create additional image augmentations\n",
        "  tfms = [*aug_transforms(mult=1.0, do_flip=True, flip_vert=True, max_rotate=40.0, min_zoom=1.0, max_zoom=1.4, max_warp=0.4),\n",
        "   Normalize.from_stats(*imagenet_stats)]\n",
        "\n",
        "  # Check if there is a label for each image\n",
        "  fnames, lbl_names, path = check_fnames_lbls(tile_type, augmented)\n",
        "\n",
        "  # Get codes of masks\n",
        "  p2c = n_codes(lbl_names)\n",
        "\n",
        "  # Automatically set batch size depending on image size and backbone used\n",
        "  bs = batch_size(backbone, tile_size)\n",
        "\n",
        "  if augmented == False:\n",
        "    # Create function to load images and masks\n",
        "    dls = SegmentationDataLoaders.from_label_func(path, fnames, label_func=get_y, valid_pct=split, bs=bs, codes=codes, seed=2, batch_tfms=tfms)\n",
        "\n",
        "  elif augmented == True:\n",
        "    # Create custom splitting function to exclude images in the 'valid' folder from training\n",
        "    splitter = FuncSplitter(lambda fn: Path(fn).parent.name == 'valid')\n",
        "    db = DataBlock(blocks=(ImageBlock, MaskBlock(codes)), get_items=get_image_files, splitter=splitter, get_y=get_y_augmented, batch_tfms=tfms)\n",
        "    dls = db.dataloaders(path/'img', bs=bs, valid_pct=split)\n",
        "  \n",
        "  # Create model\n",
        "  if backbone == 'resnet18':\n",
        "    learn = unet_learner(dls, resnet18, n_out=2, loss_func=Dual_Focal_loss(), metrics=[Dice()] # Dice coefficient since dataset is imbalanced\n",
        "                        ).to_fp16() # 16-bits floats, which take half the space in RAM\n",
        "  elif backbone == 'resnet34':\n",
        "    learn = unet_learner(dls, resnet34, n_out=2, loss_func=Dual_Focal_loss(), metrics=[Dice()]).to_fp16()\n",
        "  elif backbone == 'resnet50':\n",
        "    learn = unet_learner(dls, resnet50, n_out=2, loss_func=Dual_Focal_loss(), metrics=[Dice()]).to_fp16()\n",
        "  elif backbone == 'resnet101':\n",
        "    learn = unet_learner(dls, resnet101, n_out=2, loss_func=Dual_Focal_loss(), metrics=[Dice()]).to_fp16()\n",
        "\n",
        "  learn.fit_one_cycle(epochs, cbs=callbacks(model_dir, architecture, backbone, fit_type, timestamp))\n",
        "  return learn, dls\n",
        "\n",
        "def seed():\n",
        "  # Create Seed for Reproducibility\n",
        "  number_of_the_seed = 2022\n",
        "  random.seed(number_of_the_seed)\n",
        "  set_seed(number_of_the_seed)\n",
        "  torch.backends.cudnn.deterministic = True\n",
        "  torch.backends.cudnn.benchmark = False\n",
        "\n",
        "def hrnet_model_training(tile_type, backbone, fit_type, epochs, architecture='HRNet', augmented=None, split=.2, bs=None):\n",
        "  global tile_size, p2c, loss\n",
        "  seed()\n",
        "\n",
        "  tile_size = get_tile_size(tile_type)\n",
        "  fnames, lbl_names, path = check_fnames_lbls(tile_type, augmented)\n",
        "\n",
        "  if bs == None:\n",
        "    bs = batch_size(backbone, tile_size)\n",
        "\n",
        "  # Get codes of masks\n",
        "  p2c = n_codes(lbl_names)\n",
        "\n",
        "  if augmented == False:\n",
        "    # Create function to load images and masks\n",
        "    dls = SegmentationDataLoaders.from_label_func(path, fnames, label_func=get_y, bs=bs, codes=codes, seed=2022,\n",
        "                                                  batch_tfms=[Normalize.from_stats(*imagenet_stats)], valid_pct=split)\n",
        "  elif augmented == True:\n",
        "    splitter = FuncSplitter(lambda fn: Path(fn).parent.name == 'valid')\n",
        "    db = DataBlock(blocks=(ImageBlock, MaskBlock(codes)), get_items=get_image_files, splitter=splitter, get_y=get_y_augmented)\n",
        "    dls = db.dataloaders(path/'img', bs=bs, valid_pct=split)\n",
        "\n",
        "  learn = get_segmentation_learner(dls, number_classes=2, segmentation_type=\"Semantic Segmentation\", architecture_name=\"hrnet\",\n",
        "   backbone_name=backbone, model_dir=model_dir, metrics=[Dice()], splitter=trainable_params, pretrained=True).to_fp16()\n",
        "\n",
        "  learn.fit_one_cycle(epochs, cbs=callbacks(model_dir, architecture, backbone, fit_type, timestamp))\n",
        "  return learn, dls\n",
        "\n",
        "# Set path to model directory to store model and callbacks\n",
        "model_dir = f'{path}/models/Ferris'\n",
        "create_missing_folder(model_dir)"
      ]
    },
    {
      "cell_type": "code",
      "execution_count": null,
      "metadata": {
        "colab": {
          "base_uri": "https://localhost:8080/",
          "height": 354
        },
        "id": "WrOIRN-BT30p",
        "outputId": "b4750574-7286-4010-8ae5-89765027882c"
      },
      "outputs": [
        {
          "name": "stderr",
          "output_type": "stream",
          "text": [
            "/usr/local/lib/python3.7/dist-packages/torch/_tensor.py:1142: UserWarning: __floordiv__ is deprecated, and its behavior will change in a future version of pytorch. It currently rounds toward 0 (like the 'trunc' function NOT 'floor'). This results in incorrect rounding for negative values. To keep the current behavior, use torch.div(a, b, rounding_mode='trunc'), or for actual floor division, use torch.div(a, b, rounding_mode='floor').\n",
            "  ret = func(*args, **kwargs)\n"
          ]
        },
        {
          "data": {
            "image/png": "[encoded data removed]",
            "text/plain": [
              "<Figure size 432x288 with 1 Axes>"
            ]
          },
          "metadata": {
            "needs_background": "light"
          },
          "output_type": "display_data"
        },
        {
          "name": "stdout",
          "output_type": "stream",
          "text": [
            "Mean Percentage of Pixels Belonging to Buildings: 0.064\n"
          ]
        }
      ],
      "source": [
        "tile_type = '512_512 stride'\n",
        "\n",
        "percentages = check_dataset_balance(tile_type, augmented=False)"
      ]
    },
    {
      "cell_type": "markdown",
      "metadata": {
        "id": "ehHWlsnrimHW"
      },
      "source": [
        "### 3.1. Train U-Net"
      ]
    },
    {
      "cell_type": "markdown",
      "metadata": {
        "id": "H8LN8UJScA2B"
      },
      "source": [
        "## Unaugmented Training Data"
      ]
    },
    {
      "cell_type": "code",
      "execution_count": null,
      "metadata": {
        "id": "2DD8hA_Pg8zi"
      },
      "outputs": [],
      "source": [
        "tile_type = '512_512 stride'\n",
        "backbone = 'resnet18'\n",
        "fit_type = 'One-Cycle'\n",
        "epochs = 200\n",
        "\n",
        "learn, dls = u_net_model_training(tile_type, backbone, fit_type, epochs, architecture='U-Net', augmented=False, split=.2)"
      ]
    },
    {
      "cell_type": "markdown",
      "metadata": {
        "id": "mCZ5oppjb8X6"
      },
      "source": [
        "## Augmented Training Data"
      ]
    },
    {
      "cell_type": "code",
      "execution_count": null,
      "metadata": {
        "id": "aw4zHGyhb6AF"
      },
      "outputs": [],
      "source": [
        "tile_type = '512_512 stride'\n",
        "backbone = 'resnet18'\n",
        "fit_type = 'One-Cycle'\n",
        "epochs = 200\n",
        "\n",
        "learn, dls = u_net_model_training(tile_type, backbone, fit_type, epochs, architecture='U-Net', augmented=True, split=.2)"
      ]
    },
    {
      "cell_type": "markdown",
      "metadata": {
        "id": "uh3fGOr16O0d"
      },
      "source": [
        "### 3.2. Train HRNet"
      ]
    },
    {
      "cell_type": "markdown",
      "metadata": {
        "id": "M1HmbOvlcTHH"
      },
      "source": [
        "##Unaugmented Training Data"
      ]
    },
    {
      "cell_type": "code",
      "execution_count": null,
      "metadata": {
        "id": "e3u0ajEUilYb"
      },
      "outputs": [],
      "source": [
        "tile_type = '512_512 stride'\n",
        "backbone = 'hrnet_w18'\n",
        "fit_type = 'One-Cycle'\n",
        "epochs = 200\n",
        "\n",
        "learn, dls = hrnet_model_training(tile_type, backbone, fit_type, epochs, architecture='HRNet', augmented=False, split=.2)"
      ]
    },
    {
      "cell_type": "markdown",
      "metadata": {
        "id": "_2zaLP6tcYWx"
      },
      "source": [
        "## Augmented Training Data"
      ]
    },
    {
      "cell_type": "code",
      "execution_count": null,
      "metadata": {
        "id": "MHcJdyIDcc0m"
      },
      "outputs": [],
      "source": [
        "tile_type = '512_512 stride'\n",
        "backbone = 'hrnet_w18'\n",
        "fit_type = 'One-Cycle'\n",
        "epochs = 200\n",
        "\n",
        "learn, dls = hrnet_model_training(tile_type, backbone, fit_type, epochs, architecture='HRNet', augmented=True, split=.2)"
      ]
    },
    {
      "cell_type": "markdown",
      "metadata": {
        "id": "RHnqMtIdflHN"
      },
      "source": [
        "## Save models"
      ]
    },
    {
      "cell_type": "code",
      "execution_count": null,
      "metadata": {
        "id": "plplHpQGfl_5"
      },
      "outputs": [],
      "source": [
        "model_save_path = 'drive/newmodel' # put path to where you want to save the model here\n",
        "learn.export(f'{model_save_path}_exported.pkl')"
      ]
    },
    {
      "cell_type": "markdown",
      "metadata": {
        "id": "FtKeGSncf93s"
      },
      "source": [
        "For information on functions and everything related to fastai, which was used to train the models, go to https://docs.fast.ai/"
      ]
    }
  ],
  "metadata": {
    "accelerator": "GPU",
    "colab": {
      "collapsed_sections": [],
      "name": "UNITAC eThekwini Building Tracker Model Training Workbook.ipynb",
      "provenance": []
    },
    "kernelspec": {
      "display_name": "Python 3.9.10 64-bit",
      "language": "python",
      "name": "python3"
    },
    "language_info": {
      "name": "python",
      "version": "3.9.10"
    },
    "vscode": {
      "interpreter": {
        "hash": "b0fa6594d8f4cbf19f97940f81e996739fb7646882a419484c72d19e05852a7e"
      }
    }
  },
  "nbformat": 4,
  "nbformat_minor": 0
}
